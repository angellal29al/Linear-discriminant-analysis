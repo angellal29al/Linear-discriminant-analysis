{
 "cells": [
  {
   "cell_type": "markdown",
   "id": "769bd5c8",
   "metadata": {},
   "source": [
    "# <center>LDA for prediction of sex of scallops  <center>"
   ]
  },
  {
   "cell_type": "markdown",
   "id": "8bf68cbd",
   "metadata": {},
   "source": [
    "#### ANGEL LAL "
   ]
  },
  {
   "cell_type": "markdown",
   "id": "5fac0b0f",
   "metadata": {},
   "source": [
    "### DATA DESCRIPTION\n",
    "Predicting the sex of scallops from physical measurements. The sex of scallops is determined by cutting the shell through the cone, staining it, and counting the number of rings through a microscope -- a boring and time-consuming task. Other measurements, which are easier to obtain, are used to predict the gender."
   ]
  },
  {
   "cell_type": "code",
   "execution_count": 54,
   "id": "e38dbcd4",
   "metadata": {},
   "outputs": [],
   "source": [
    "from sklearn.discriminant_analysis import LinearDiscriminantAnalysis\n",
    "from sklearn.discriminant_analysis import QuadraticDiscriminantAnalysis\n",
    "import pandas as pd\n",
    "import numpy as np\n",
    "import matplotlib.pyplot as plt\n",
    "import seaborn as sns\n",
    "from matplotlib import pyplot\n",
    "from imblearn.over_sampling import SMOTE\n",
    "from sklearn.preprocessing import LabelEncoder\n",
    "from sklearn.model_selection import train_test_split\n",
    "from sklearn.metrics import confusion_matrix\n",
    "from sklearn.metrics import accuracy_score\n",
    "from sklearn.metrics import multilabel_confusion_matrix\n",
    "from sklearn.metrics import classification_report \n",
    "from pingouin import multivariate_normality"
   ]
  },
  {
   "cell_type": "code",
   "execution_count": 15,
   "id": "24b9951e",
   "metadata": {},
   "outputs": [],
   "source": [
    "data = pd.read_excel(\"D:\\MSTAT\\SEM 3\\Machine Learning\\ML LAB\\scallops.xls\")"
   ]
  },
  {
   "cell_type": "code",
   "execution_count": 16,
   "id": "028ab756",
   "metadata": {},
   "outputs": [
    {
     "data": {
      "text/html": [
       "<div>\n",
       "<style scoped>\n",
       "    .dataframe tbody tr th:only-of-type {\n",
       "        vertical-align: middle;\n",
       "    }\n",
       "\n",
       "    .dataframe tbody tr th {\n",
       "        vertical-align: top;\n",
       "    }\n",
       "\n",
       "    .dataframe thead th {\n",
       "        text-align: right;\n",
       "    }\n",
       "</style>\n",
       "<table border=\"1\" class=\"dataframe\">\n",
       "  <thead>\n",
       "    <tr style=\"text-align: right;\">\n",
       "      <th></th>\n",
       "      <th>Y</th>\n",
       "      <th>length</th>\n",
       "      <th>diameter</th>\n",
       "      <th>height</th>\n",
       "      <th>whole_weight</th>\n",
       "      <th>shucked_weight</th>\n",
       "      <th>viscera_weight</th>\n",
       "      <th>shell_weight</th>\n",
       "    </tr>\n",
       "  </thead>\n",
       "  <tbody>\n",
       "    <tr>\n",
       "      <th>0</th>\n",
       "      <td>1</td>\n",
       "      <td>0.455</td>\n",
       "      <td>0.365</td>\n",
       "      <td>0.095</td>\n",
       "      <td>0.5140</td>\n",
       "      <td>0.2245</td>\n",
       "      <td>0.1010</td>\n",
       "      <td>0.150</td>\n",
       "    </tr>\n",
       "    <tr>\n",
       "      <th>1</th>\n",
       "      <td>1</td>\n",
       "      <td>0.350</td>\n",
       "      <td>0.265</td>\n",
       "      <td>0.090</td>\n",
       "      <td>0.2255</td>\n",
       "      <td>0.0995</td>\n",
       "      <td>0.0485</td>\n",
       "      <td>0.070</td>\n",
       "    </tr>\n",
       "    <tr>\n",
       "      <th>2</th>\n",
       "      <td>0</td>\n",
       "      <td>0.530</td>\n",
       "      <td>0.420</td>\n",
       "      <td>0.135</td>\n",
       "      <td>0.6770</td>\n",
       "      <td>0.2565</td>\n",
       "      <td>0.1415</td>\n",
       "      <td>0.210</td>\n",
       "    </tr>\n",
       "    <tr>\n",
       "      <th>3</th>\n",
       "      <td>1</td>\n",
       "      <td>0.440</td>\n",
       "      <td>0.365</td>\n",
       "      <td>0.125</td>\n",
       "      <td>0.5160</td>\n",
       "      <td>0.2155</td>\n",
       "      <td>0.1140</td>\n",
       "      <td>0.155</td>\n",
       "    </tr>\n",
       "    <tr>\n",
       "      <th>4</th>\n",
       "      <td>0</td>\n",
       "      <td>0.330</td>\n",
       "      <td>0.255</td>\n",
       "      <td>0.080</td>\n",
       "      <td>0.2050</td>\n",
       "      <td>0.0895</td>\n",
       "      <td>0.0395</td>\n",
       "      <td>0.055</td>\n",
       "    </tr>\n",
       "  </tbody>\n",
       "</table>\n",
       "</div>"
      ],
      "text/plain": [
       "   Y  length  diameter  height  whole_weight  shucked_weight  viscera_weight  \\\n",
       "0  1   0.455     0.365   0.095        0.5140          0.2245          0.1010   \n",
       "1  1   0.350     0.265   0.090        0.2255          0.0995          0.0485   \n",
       "2  0   0.530     0.420   0.135        0.6770          0.2565          0.1415   \n",
       "3  1   0.440     0.365   0.125        0.5160          0.2155          0.1140   \n",
       "4  0   0.330     0.255   0.080        0.2050          0.0895          0.0395   \n",
       "\n",
       "   shell_weight  \n",
       "0         0.150  \n",
       "1         0.070  \n",
       "2         0.210  \n",
       "3         0.155  \n",
       "4         0.055  "
      ]
     },
     "execution_count": 16,
     "metadata": {},
     "output_type": "execute_result"
    }
   ],
   "source": [
    "data.head()"
   ]
  },
  {
   "cell_type": "code",
   "execution_count": 17,
   "id": "fd002b08",
   "metadata": {},
   "outputs": [
    {
     "data": {
      "text/plain": [
       "(4177, 8)"
      ]
     },
     "execution_count": 17,
     "metadata": {},
     "output_type": "execute_result"
    }
   ],
   "source": [
    "data.shape"
   ]
  },
  {
   "cell_type": "code",
   "execution_count": 18,
   "id": "ce8b8c13",
   "metadata": {},
   "outputs": [
    {
     "name": "stdout",
     "output_type": "stream",
     "text": [
      "<class 'pandas.core.frame.DataFrame'>\n",
      "RangeIndex: 4177 entries, 0 to 4176\n",
      "Data columns (total 8 columns):\n",
      " #   Column          Non-Null Count  Dtype  \n",
      "---  ------          --------------  -----  \n",
      " 0   Y               4177 non-null   int64  \n",
      " 1   length          4177 non-null   float64\n",
      " 2   diameter        4177 non-null   float64\n",
      " 3   height          4177 non-null   float64\n",
      " 4   whole_weight    4177 non-null   float64\n",
      " 5   shucked_weight  4177 non-null   float64\n",
      " 6   viscera_weight  4177 non-null   float64\n",
      " 7   shell_weight    4177 non-null   float64\n",
      "dtypes: float64(7), int64(1)\n",
      "memory usage: 261.2 KB\n"
     ]
    }
   ],
   "source": [
    "data.info()"
   ]
  },
  {
   "cell_type": "markdown",
   "id": "29d268b1",
   "metadata": {},
   "source": [
    "### Attribiute Information\n",
    "- Sex / nominal / 0 - Female, 1 - male\n",
    "- Length / continuous / mm / Longest shell measurement\n",
    "- Diameter / continuous / mm / perpendicular to length\n",
    "- Height / continuous / mm / with meat in shell\n",
    "- Whole weight / continuous / grams / whole abalone\n",
    "- Shucked weight / continuous / grams / weight of meat\n",
    "- Visecera weight / continuous / grams / gut weight (after bleeding)\n",
    "- Shell weight / continuous / grams / after being dried\n",
    "\n"
   ]
  },
  {
   "cell_type": "markdown",
   "id": "6733b5a1",
   "metadata": {},
   "source": [
    "### EDA"
   ]
  },
  {
   "cell_type": "code",
   "execution_count": 21,
   "id": "d60350c3",
   "metadata": {},
   "outputs": [
    {
     "data": {
      "text/html": [
       "<div>\n",
       "<style scoped>\n",
       "    .dataframe tbody tr th:only-of-type {\n",
       "        vertical-align: middle;\n",
       "    }\n",
       "\n",
       "    .dataframe tbody tr th {\n",
       "        vertical-align: top;\n",
       "    }\n",
       "\n",
       "    .dataframe thead th {\n",
       "        text-align: right;\n",
       "    }\n",
       "</style>\n",
       "<table border=\"1\" class=\"dataframe\">\n",
       "  <thead>\n",
       "    <tr style=\"text-align: right;\">\n",
       "      <th></th>\n",
       "      <th>Y</th>\n",
       "      <th>length</th>\n",
       "      <th>diameter</th>\n",
       "      <th>height</th>\n",
       "      <th>whole_weight</th>\n",
       "      <th>shucked_weight</th>\n",
       "      <th>viscera_weight</th>\n",
       "      <th>shell_weight</th>\n",
       "    </tr>\n",
       "  </thead>\n",
       "  <tbody>\n",
       "    <tr>\n",
       "      <th>count</th>\n",
       "      <td>4177.000000</td>\n",
       "      <td>4177.000000</td>\n",
       "      <td>4177.000000</td>\n",
       "      <td>4177.000000</td>\n",
       "      <td>4177.000000</td>\n",
       "      <td>4177.000000</td>\n",
       "      <td>4177.000000</td>\n",
       "      <td>4177.000000</td>\n",
       "    </tr>\n",
       "    <tr>\n",
       "      <th>mean</th>\n",
       "      <td>0.365813</td>\n",
       "      <td>0.523992</td>\n",
       "      <td>0.407881</td>\n",
       "      <td>0.139516</td>\n",
       "      <td>0.828742</td>\n",
       "      <td>0.359367</td>\n",
       "      <td>0.180594</td>\n",
       "      <td>0.238831</td>\n",
       "    </tr>\n",
       "    <tr>\n",
       "      <th>std</th>\n",
       "      <td>0.481715</td>\n",
       "      <td>0.120093</td>\n",
       "      <td>0.099240</td>\n",
       "      <td>0.041827</td>\n",
       "      <td>0.490389</td>\n",
       "      <td>0.221963</td>\n",
       "      <td>0.109614</td>\n",
       "      <td>0.139203</td>\n",
       "    </tr>\n",
       "    <tr>\n",
       "      <th>min</th>\n",
       "      <td>0.000000</td>\n",
       "      <td>0.075000</td>\n",
       "      <td>0.055000</td>\n",
       "      <td>0.000000</td>\n",
       "      <td>0.002000</td>\n",
       "      <td>0.001000</td>\n",
       "      <td>0.000500</td>\n",
       "      <td>0.001500</td>\n",
       "    </tr>\n",
       "    <tr>\n",
       "      <th>25%</th>\n",
       "      <td>0.000000</td>\n",
       "      <td>0.450000</td>\n",
       "      <td>0.350000</td>\n",
       "      <td>0.115000</td>\n",
       "      <td>0.441500</td>\n",
       "      <td>0.186000</td>\n",
       "      <td>0.093500</td>\n",
       "      <td>0.130000</td>\n",
       "    </tr>\n",
       "    <tr>\n",
       "      <th>50%</th>\n",
       "      <td>0.000000</td>\n",
       "      <td>0.545000</td>\n",
       "      <td>0.425000</td>\n",
       "      <td>0.140000</td>\n",
       "      <td>0.799500</td>\n",
       "      <td>0.336000</td>\n",
       "      <td>0.171000</td>\n",
       "      <td>0.234000</td>\n",
       "    </tr>\n",
       "    <tr>\n",
       "      <th>75%</th>\n",
       "      <td>1.000000</td>\n",
       "      <td>0.615000</td>\n",
       "      <td>0.480000</td>\n",
       "      <td>0.165000</td>\n",
       "      <td>1.153000</td>\n",
       "      <td>0.502000</td>\n",
       "      <td>0.253000</td>\n",
       "      <td>0.329000</td>\n",
       "    </tr>\n",
       "    <tr>\n",
       "      <th>max</th>\n",
       "      <td>1.000000</td>\n",
       "      <td>0.815000</td>\n",
       "      <td>0.650000</td>\n",
       "      <td>1.130000</td>\n",
       "      <td>2.825500</td>\n",
       "      <td>1.488000</td>\n",
       "      <td>0.760000</td>\n",
       "      <td>1.005000</td>\n",
       "    </tr>\n",
       "  </tbody>\n",
       "</table>\n",
       "</div>"
      ],
      "text/plain": [
       "                 Y       length     diameter       height  whole_weight  \\\n",
       "count  4177.000000  4177.000000  4177.000000  4177.000000   4177.000000   \n",
       "mean      0.365813     0.523992     0.407881     0.139516      0.828742   \n",
       "std       0.481715     0.120093     0.099240     0.041827      0.490389   \n",
       "min       0.000000     0.075000     0.055000     0.000000      0.002000   \n",
       "25%       0.000000     0.450000     0.350000     0.115000      0.441500   \n",
       "50%       0.000000     0.545000     0.425000     0.140000      0.799500   \n",
       "75%       1.000000     0.615000     0.480000     0.165000      1.153000   \n",
       "max       1.000000     0.815000     0.650000     1.130000      2.825500   \n",
       "\n",
       "       shucked_weight  viscera_weight  shell_weight  \n",
       "count     4177.000000     4177.000000   4177.000000  \n",
       "mean         0.359367        0.180594      0.238831  \n",
       "std          0.221963        0.109614      0.139203  \n",
       "min          0.001000        0.000500      0.001500  \n",
       "25%          0.186000        0.093500      0.130000  \n",
       "50%          0.336000        0.171000      0.234000  \n",
       "75%          0.502000        0.253000      0.329000  \n",
       "max          1.488000        0.760000      1.005000  "
      ]
     },
     "execution_count": 21,
     "metadata": {},
     "output_type": "execute_result"
    }
   ],
   "source": [
    "data.describe()"
   ]
  },
  {
   "cell_type": "code",
   "execution_count": 23,
   "id": "a22b2584",
   "metadata": {},
   "outputs": [
    {
     "data": {
      "text/plain": [
       "0    2649\n",
       "1    1528\n",
       "Name: Y, dtype: int64"
      ]
     },
     "execution_count": 23,
     "metadata": {},
     "output_type": "execute_result"
    }
   ],
   "source": [
    "data['Y'].value_counts()"
   ]
  },
  {
   "cell_type": "code",
   "execution_count": 25,
   "id": "97b04993",
   "metadata": {},
   "outputs": [
    {
     "data": {
      "image/png": "[encoded data removed]",
      "text/plain": [
       "<Figure size 432x288 with 1 Axes>"
      ]
     },
     "metadata": {
      "needs_background": "light"
     },
     "output_type": "display_data"
    }
   ],
   "source": [
    "sns.countplot(x='Y',data=data)\n",
    "plt.show()"
   ]
  },
  {
   "cell_type": "code",
   "execution_count": 26,
   "id": "3bacace2",
   "metadata": {},
   "outputs": [
    {
     "name": "stdout",
     "output_type": "stream",
     "text": [
      "percentage of female is 63.41872157050514\n",
      "percentage of male is 36.58127842949485\n"
     ]
    }
   ],
   "source": [
    "count_f = len(data[data['Y']==0])\n",
    "count_m = len(data[data['Y']==1])\n",
    "pct_of_f = count_f/(count_f+count_m)\n",
    "print(\"percentage of female is\", pct_of_f*100)\n",
    "pct_of_m = count_m/(count_f+count_m)\n",
    "print(\"percentage of male is\", pct_of_m*100)"
   ]
  },
  {
   "cell_type": "markdown",
   "id": "656e1e1b",
   "metadata": {},
   "source": [
    "From the countplot and percentage of the classes we can observe a shift towards Female class. Hence the problem of imbalanced classification arrives"
   ]
  },
  {
   "cell_type": "code",
   "execution_count": 27,
   "id": "ba4bd61a",
   "metadata": {},
   "outputs": [
    {
     "data": {
      "text/html": [
       "<div>\n",
       "<style scoped>\n",
       "    .dataframe tbody tr th:only-of-type {\n",
       "        vertical-align: middle;\n",
       "    }\n",
       "\n",
       "    .dataframe tbody tr th {\n",
       "        vertical-align: top;\n",
       "    }\n",
       "\n",
       "    .dataframe thead th {\n",
       "        text-align: right;\n",
       "    }\n",
       "</style>\n",
       "<table border=\"1\" class=\"dataframe\">\n",
       "  <thead>\n",
       "    <tr style=\"text-align: right;\">\n",
       "      <th></th>\n",
       "      <th>length</th>\n",
       "      <th>diameter</th>\n",
       "      <th>height</th>\n",
       "      <th>whole_weight</th>\n",
       "      <th>shucked_weight</th>\n",
       "      <th>viscera_weight</th>\n",
       "      <th>shell_weight</th>\n",
       "    </tr>\n",
       "    <tr>\n",
       "      <th>Y</th>\n",
       "      <th></th>\n",
       "      <th></th>\n",
       "      <th></th>\n",
       "      <th></th>\n",
       "      <th></th>\n",
       "      <th></th>\n",
       "      <th></th>\n",
       "    </tr>\n",
       "  </thead>\n",
       "  <tbody>\n",
       "    <tr>\n",
       "      <th>0</th>\n",
       "      <td>0.502420</td>\n",
       "      <td>0.389766</td>\n",
       "      <td>0.132673</td>\n",
       "      <td>0.734883</td>\n",
       "      <td>0.316926</td>\n",
       "      <td>0.160433</td>\n",
       "      <td>0.213948</td>\n",
       "    </tr>\n",
       "    <tr>\n",
       "      <th>1</th>\n",
       "      <td>0.561391</td>\n",
       "      <td>0.439287</td>\n",
       "      <td>0.151381</td>\n",
       "      <td>0.991459</td>\n",
       "      <td>0.432946</td>\n",
       "      <td>0.215545</td>\n",
       "      <td>0.281969</td>\n",
       "    </tr>\n",
       "  </tbody>\n",
       "</table>\n",
       "</div>"
      ],
      "text/plain": [
       "     length  diameter    height  whole_weight  shucked_weight  viscera_weight  \\\n",
       "Y                                                                               \n",
       "0  0.502420  0.389766  0.132673      0.734883        0.316926        0.160433   \n",
       "1  0.561391  0.439287  0.151381      0.991459        0.432946        0.215545   \n",
       "\n",
       "   shell_weight  \n",
       "Y                \n",
       "0      0.213948  \n",
       "1      0.281969  "
      ]
     },
     "execution_count": 27,
     "metadata": {},
     "output_type": "execute_result"
    }
   ],
   "source": [
    "data.groupby('Y').mean()"
   ]
  },
  {
   "cell_type": "code",
   "execution_count": 33,
   "id": "aee12ebb",
   "metadata": {},
   "outputs": [
    {
     "data": {
      "image/png": "[encoded data removed]",
      "text/plain": [
       "<Figure size 576x576 with 1 Axes>"
      ]
     },
     "metadata": {},
     "output_type": "display_data"
    }
   ],
   "source": [
    "data.groupby('Y').size().plot(kind='pie', autopct='%.2f',figsize=(8,8))\n",
    "plt.title(\"FIGURE 2: Percentage of Sexes of scallops\")\n",
    "plt.show()"
   ]
  },
  {
   "cell_type": "code",
   "execution_count": 37,
   "id": "bed70517",
   "metadata": {},
   "outputs": [
    {
     "data": {
      "image/png": "[encoded data removed]",
      "text/plain": [
       "<Figure size 720x720 with 16 Axes>"
      ]
     },
     "metadata": {
      "needs_background": "light"
     },
     "output_type": "display_data"
    }
   ],
   "source": [
    "data.plot(kind='density', subplots=True, layout=(4,4), sharex=False, figsize=(10,10))\n",
    "plt.title('FIGURE 3: Line Graphs')\n",
    "plt.show()"
   ]
  },
  {
   "cell_type": "markdown",
   "id": "1266a909",
   "metadata": {},
   "source": [
    "From this we can see that none of the varaibles have a normal distribution."
   ]
  },
  {
   "cell_type": "code",
   "execution_count": 39,
   "id": "0af36350",
   "metadata": {},
   "outputs": [
    {
     "data": {
      "text/plain": [
       "(array([0, 1]), [Text(0, 0, '0'), Text(1, 0, '1')])"
      ]
     },
     "execution_count": 39,
     "metadata": {},
     "output_type": "execute_result"
    },
    {
     "data": {
      "image/png": "[encoded data removed]",
      "text/plain": [
       "<Figure size 360x360 with 1 Axes>"
      ]
     },
     "metadata": {},
     "output_type": "display_data"
    }
   ],
   "source": [
    "sns.set_theme(style=\"ticks\", color_codes=True)\n",
    "sns.catplot(x=\"Y\", y=\"length\", data=data)\n",
    "plt.title('FIGURE 4: ScatterPlot for Longest shell measurement of Different Sexes')\n",
    "plt.xticks(rotation=30)"
   ]
  },
  {
   "cell_type": "code",
   "execution_count": 41,
   "id": "f3dd679f",
   "metadata": {},
   "outputs": [
    {
     "data": {
      "image/png": "[encoded data removed]",
      "text/plain": [
       "<Figure size 720x720 with 16 Axes>"
      ]
     },
     "metadata": {},
     "output_type": "display_data"
    }
   ],
   "source": [
    "data.plot(kind='box', subplots=True, layout=(4,4), sharex=False,sharey=False, figsize=(10,10))\n",
    "plt.title('FIGURE 5: BoxPlot ')\n",
    "plt.show()"
   ]
  },
  {
   "cell_type": "markdown",
   "id": "40b28e56",
   "metadata": {},
   "source": [
    "All the variables have outliers in them"
   ]
  },
  {
   "cell_type": "markdown",
   "id": "49f9353b",
   "metadata": {},
   "source": [
    "### Synthentic Minority Oversampling Technique (SMOTE)"
   ]
  },
  {
   "cell_type": "code",
   "execution_count": 30,
   "id": "88df3068",
   "metadata": {},
   "outputs": [],
   "source": [
    "X = data.loc[:, data.columns != 'Y']\n",
    "y = data.loc[:, data.columns == 'Y']"
   ]
  },
  {
   "cell_type": "code",
   "execution_count": 31,
   "id": "e77194c0",
   "metadata": {},
   "outputs": [
    {
     "name": "stdout",
     "output_type": "stream",
     "text": [
      "length of oversampled data is  3680\n",
      "Number of Females in oversampled data 1840\n",
      "Number of males in oversampled data 1840\n",
      "Proportion of females in oversampled data is  0.5\n",
      "Proportion of males in oversampled data is  0.5\n"
     ]
    }
   ],
   "source": [
    "os = SMOTE(random_state=0)\n",
    "X_train, X_test, y_train, y_test = train_test_split(X, y, test_size=0.3, random_state=0)\n",
    "columns = X_train.columns\n",
    "os_data_X,os_data_y=os.fit_resample(X_train, y_train)\n",
    "os_data_X = pd.DataFrame(data=os_data_X,columns=columns )\n",
    "os_data_y= pd.DataFrame(data=os_data_y,columns=['Y'])\n",
    "\n",
    "# we can Check the numbers of our data\n",
    "print(\"length of oversampled data is \",len(os_data_X))\n",
    "print(\"Number of Females in oversampled data\",len(os_data_y[os_data_y['Y']==0]))\n",
    "print(\"Number of males in oversampled data\",len(os_data_y[os_data_y['Y']==1]))\n",
    "print(\"Proportion of females in oversampled data is \",len(os_data_y[os_data_y['Y']==0])/len(os_data_X))\n",
    "print(\"Proportion of males in oversampled data is \",len(os_data_y[os_data_y['Y']==1])/len(os_data_X))"
   ]
  },
  {
   "cell_type": "markdown",
   "id": "9a9de073",
   "metadata": {},
   "source": [
    "### MODEL 1: LINEAR DISCRIMINANT ANALYSIS"
   ]
  },
  {
   "cell_type": "markdown",
   "id": "f02fe4d5",
   "metadata": {},
   "source": [
    "#### Checking for multivariate normality\n",
    "$H_0$: The distribution of data is not significantly different from multivariate normal<br>\n",
    "$H_1$: The distribution of data is significantly different from multivariate normal"
   ]
  },
  {
   "cell_type": "code",
   "execution_count": 44,
   "id": "162a9b5b",
   "metadata": {},
   "outputs": [
    {
     "data": {
      "text/plain": [
       "HZResults(hz=42.47206682744939, pval=0.0, normal=False)"
      ]
     },
     "execution_count": 44,
     "metadata": {},
     "output_type": "execute_result"
    }
   ],
   "source": [
    "multivariate_normality(X,alpha=0.05)"
   ]
  },
  {
   "cell_type": "markdown",
   "id": "5ce4d2ab",
   "metadata": {},
   "source": [
    "pval<0.05. Hence we are rejecting H0. The distribution of data is significantly different from multivariate normal"
   ]
  },
  {
   "cell_type": "code",
   "execution_count": 45,
   "id": "2a1f2a2f",
   "metadata": {},
   "outputs": [],
   "source": [
    "X_train,X_test,y_train,y_test=train_test_split(X,y,random_state=101)"
   ]
  },
  {
   "cell_type": "code",
   "execution_count": 46,
   "id": "71ded1d4",
   "metadata": {},
   "outputs": [
    {
     "name": "stderr",
     "output_type": "stream",
     "text": [
      "C:\\Users\\angel\\anaconda3\\lib\\site-packages\\sklearn\\utils\\validation.py:993: DataConversionWarning: A column-vector y was passed when a 1d array was expected. Please change the shape of y to (n_samples, ), for example using ravel().\n",
      "  y = column_or_1d(y, warn=True)\n"
     ]
    },
    {
     "data": {
      "text/plain": [
       "LinearDiscriminantAnalysis()"
      ]
     },
     "execution_count": 46,
     "metadata": {},
     "output_type": "execute_result"
    }
   ],
   "source": [
    "lda=LinearDiscriminantAnalysis()\n",
    "lda.fit(X_train,y_train)"
   ]
  },
  {
   "cell_type": "code",
   "execution_count": 47,
   "id": "b8a5496d",
   "metadata": {},
   "outputs": [
    {
     "name": "stdout",
     "output_type": "stream",
     "text": [
      "The accuracy score is  63.3493 %\n"
     ]
    }
   ],
   "source": [
    "y_predict=lda.predict(X_test)\n",
    "ac=accuracy_score(y_test,y_predict)\n",
    "print(\"The accuracy score is \", round(100*ac,4),\"%\")"
   ]
  },
  {
   "cell_type": "code",
   "execution_count": 48,
   "id": "8283de56",
   "metadata": {},
   "outputs": [
    {
     "data": {
      "text/plain": [
       "array([[589,  62],\n",
       "       [321,  73]], dtype=int64)"
      ]
     },
     "execution_count": 48,
     "metadata": {},
     "output_type": "execute_result"
    }
   ],
   "source": [
    "confusion_matrix(y_test,y_predict)"
   ]
  },
  {
   "cell_type": "markdown",
   "id": "1f1256a1",
   "metadata": {},
   "source": [
    "The confusion matrix explains 589+73 = 662 correct predictions and 321+73 = 394 wrong predictions\n",
    "\n",
    "This model gives more correct predictions than and wrong predictions which is an indication of a good model"
   ]
  },
  {
   "cell_type": "code",
   "execution_count": 50,
   "id": "13ecf895",
   "metadata": {},
   "outputs": [
    {
     "name": "stdout",
     "output_type": "stream",
     "text": [
      "              precision    recall  f1-score   support\n",
      "\n",
      "           0       0.65      0.90      0.75       651\n",
      "           1       0.54      0.19      0.28       394\n",
      "\n",
      "    accuracy                           0.63      1045\n",
      "   macro avg       0.59      0.55      0.52      1045\n",
      "weighted avg       0.61      0.63      0.57      1045\n",
      "\n"
     ]
    }
   ],
   "source": [
    "print(classification_report(y_test, y_predict))"
   ]
  },
  {
   "cell_type": "markdown",
   "id": "8b329d55",
   "metadata": {},
   "source": [
    "### MODEL 2: QUADRATIC DISCRIMINANT ANALYSIS"
   ]
  },
  {
   "cell_type": "code",
   "execution_count": 55,
   "id": "1820b547",
   "metadata": {},
   "outputs": [
    {
     "name": "stderr",
     "output_type": "stream",
     "text": [
      "C:\\Users\\angel\\anaconda3\\lib\\site-packages\\sklearn\\utils\\validation.py:993: DataConversionWarning: A column-vector y was passed when a 1d array was expected. Please change the shape of y to (n_samples, ), for example using ravel().\n",
      "  y = column_or_1d(y, warn=True)\n"
     ]
    },
    {
     "data": {
      "text/plain": [
       "QuadraticDiscriminantAnalysis()"
      ]
     },
     "execution_count": 55,
     "metadata": {},
     "output_type": "execute_result"
    }
   ],
   "source": [
    "qda = QuadraticDiscriminantAnalysis()\n",
    "qda.fit(X_train,y_train)"
   ]
  },
  {
   "cell_type": "code",
   "execution_count": 56,
   "id": "4f9189d3",
   "metadata": {},
   "outputs": [
    {
     "name": "stdout",
     "output_type": "stream",
     "text": [
      "The accuracy score is  61.9139 %\n"
     ]
    }
   ],
   "source": [
    "y_predict=qda.predict(X_test)\n",
    "ac=accuracy_score(y_test,y_predict)\n",
    "print(\"The accuracy score is \", round(100*ac,4),\"%\")"
   ]
  },
  {
   "cell_type": "code",
   "execution_count": 57,
   "id": "6c783368",
   "metadata": {},
   "outputs": [
    {
     "data": {
      "text/plain": [
       "array([[539, 112],\n",
       "       [286, 108]], dtype=int64)"
      ]
     },
     "execution_count": 57,
     "metadata": {},
     "output_type": "execute_result"
    }
   ],
   "source": [
    "confusion_matrix(y_test,y_predict)"
   ]
  },
  {
   "cell_type": "markdown",
   "id": "aeecb7a8",
   "metadata": {},
   "source": [
    "The confusion matrix explains 539 + 108 = 647 correct predictions and 112 + 286 = 398 wrong predictions"
   ]
  },
  {
   "cell_type": "code",
   "execution_count": 58,
   "id": "2accca3a",
   "metadata": {},
   "outputs": [
    {
     "name": "stdout",
     "output_type": "stream",
     "text": [
      "              precision    recall  f1-score   support\n",
      "\n",
      "           0       0.65      0.83      0.73       651\n",
      "           1       0.49      0.27      0.35       394\n",
      "\n",
      "    accuracy                           0.62      1045\n",
      "   macro avg       0.57      0.55      0.54      1045\n",
      "weighted avg       0.59      0.62      0.59      1045\n",
      "\n"
     ]
    }
   ],
   "source": [
    "print(classification_report(y_test, y_predict))"
   ]
  },
  {
   "cell_type": "markdown",
   "id": "aae07263",
   "metadata": {},
   "source": [
    "# REPORT\n",
    "\n",
    "Here the problem considered was to predict the sex of scallops using it's physical measurments.\n",
    "\n",
    "From the count plot the proportion of females to males were found out to be 64 - 36. Hence SMOTE was implemnented. \n",
    "\n",
    "- Both linear discriminant analysis and qudratic discriminant analysis were applied on the data. \n",
    "- LDA showed 63.349% of accuracy while QDA exhibited 61.914% of accuracy. \n",
    "- LDA gave 61% of precision while QDA provided 59% of precsion\n",
    "- LDA exhibited better score in F1-score also\n",
    "\n",
    "Hence we can conclude that LDA is better in this model prediction. This can be because of violation of the normality assumption.\n",
    "\n",
    "\n"
   ]
  }
 ],
 "metadata": {
  "kernelspec": {
   "display_name": "Python 3 (ipykernel)",
   "language": "python",
   "name": "python3"
  },
  "language_info": {
   "codemirror_mode": {
    "name": "ipython",
    "version": 3
   },
   "file_extension": ".py",
   "mimetype": "text/x-python",
   "name": "python",
   "nbconvert_exporter": "python",
   "pygments_lexer": "ipython3",
   "version": "3.9.7"
  }
 },
 "nbformat": 4,
 "nbformat_minor": 5
}
